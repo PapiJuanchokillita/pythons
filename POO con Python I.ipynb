{
 "cells": [
  {
   "cell_type": "markdown",
   "metadata": {
    "colab_type": "text",
    "id": "88r7XBKgKJLA"
   },
   "source": [
    "# <img src=\"uni-logo.png\" alt=\"Logo UNI\" width=100 hight=200 align=\"right\">\n",
    "\n",
    "\n",
    "<br><br><br>\n",
    "<h1><font color=\"#1D65DD\" size=5>Python desde cero</font></h1>\n",
    "\n",
    "\n",
    "\n",
    "<h1><font color=\"#1D65DD\" size=6>POO con Python I</font></h1>\n",
    "\n",
    "<br>\n",
    "<div style=\"text-align: right\">\n",
    "<font color=\"#1D65DD\" size=3>Yuri Coicca, M.Sc.</font><br>\n",
    "\n",
    "</div>"
   ]
  },
  {
   "cell_type": "markdown",
   "metadata": {
    "colab_type": "text",
    "id": "OHMtYM_dKJLB"
   },
   "source": [
    "<a id=\"indice\"></a>\n",
    "<h2><font color=\"#004D7F\" size=5>Índice</font></h2>\n",
    "\n",
    "\n",
    "* [3.9. Encapsulamiento](#section90)\n",
    "   * [Encapsulando Métodos](#section901)\n",
    "   * [Getters & Setters](#section902)\n",
    "* [3.10. Herencia](#section91)\n",
    "   * [Herencia simple](#section911)\n",
    "   * [Herencia por medio de super()](#section912)\n",
    "   * [Herencia multiple](#section913)\n",
    "   * [Ejercicio para la reflexión crítica](#section914)      \n",
    "* [3.11. Polimorfismo](#section92)   \n",
    "   * [Métodos sobreescritos](#section921)   \n",
    "   * [Sobrecarga de Operadores](#section922)\n",
    "   * [Métodos y Clases abstractas](#section922a)\n",
    "   * [¿Cuál es la utilidad de las clases abstractas?](#section923)\n",
    "   * [type()](#section924)\n",
    "* [3.12. Interfases](#section93)\n",
    "* [3.13. Reutilización de clases](#section94)"
   ]
  },
  {
   "cell_type": "markdown",
   "metadata": {
    "colab_type": "text",
    "id": "5zxKpovaKJLC"
   },
   "source": [
    "### <img src=\"img/university.png\" alt=\"Python\" width=500 hight=320 align=\"center\">"
   ]
  },
  {
   "cell_type": "markdown",
   "metadata": {
    "colab_type": "text",
    "id": "Zi4ydmG6KJLC"
   },
   "source": [
    "<a id=\"section90\"></a> \n",
    "# <font color=\"#004D7F\"> 3.9 Encapsulamiento</font>"
   ]
  },
  {
   "cell_type": "markdown",
   "metadata": {
    "colab_type": "text",
    "id": "n2a-fOk8KJLD"
   },
   "source": [
    "El concepto de encapsulamiento hace referencia a la capacidad de manejar datos dentro de una unidad especifica, siendo esta una clase u objeto. Este concepto es usado frecuentemente para esconder la representación interna, o el estado particular de un objeto con el exterior. Tipicamente, solo los los propios métodos de la clase u objeto son los que pueden manipular estos campos ocultos."
   ]
  },
  {
   "cell_type": "markdown",
   "metadata": {
    "colab_type": "text",
    "id": "J5lPunNbKJLE"
   },
   "source": [
    "### <img src=\"img/capsula.png\" alt=\"Python\" width=400 hight=240 align=\"center\">"
   ]
  },
  {
   "cell_type": "code",
   "execution_count": null,
   "metadata": {},
   "outputs": [],
   "source": [
    "class Mensaje_Secreto:\n",
    "    '''\n",
    "    Esta clase es un ejemplo de como encapsular datos, y de\n",
    "    no poder acceder a ellos desde afuera de la clase. Por lo\n",
    "    menos no de forma directa\n",
    "    '''\n",
    "    def __init__(self, mensaje, password):\n",
    "        self.__mensaje = mensaje\n",
    "        self.__password = password\n",
    "    \n",
    "    def accesar(self, clave):\n",
    "        '''\n",
    "    El método solamente mostrará el mensaje, si el password \n",
    "    introducido es el correcto\n",
    "        '''\n",
    "        if clave == self.__password:\n",
    "            print(self.__mensaje)\n",
    "        else:\n",
    "            return \"Fallaste\""
   ]
  },
  {
   "cell_type": "code",
   "execution_count": null,
   "metadata": {},
   "outputs": [],
   "source": [
    "obja=Mensaje_Secreto(\"Hola Mundo!\",\"123qwe\")"
   ]
  },
  {
   "cell_type": "code",
   "execution_count": null,
   "metadata": {},
   "outputs": [],
   "source": [
    "#obja.__mensaje"
   ]
  },
  {
   "cell_type": "code",
   "execution_count": null,
   "metadata": {},
   "outputs": [],
   "source": [
    "obja.accesar(\"123456\")"
   ]
  },
  {
   "cell_type": "code",
   "execution_count": null,
   "metadata": {},
   "outputs": [],
   "source": [
    "obja.accesar(\"123qwe\")"
   ]
  },
  {
   "cell_type": "markdown",
   "metadata": {},
   "source": [
    "Cuando se coloca un doble guión bajo antes de una variable, lo que realmente se le está indicando a Python es que le adicione como **prefijo _\"nombre de la clase\"**. Los métodos de manera interna de la clase, pueden acceder a estos atributos, ya que se encuentran dentro del mismo elemento. Objetos fuera de la clase, tendrían que ejecutar una sintaxis diferente para poder acceder a estos. **En general, la mayoría de los programadores que usan Python, respetan la privacidad de estos atributos con doble guión bajo, y solo bajo situaciones de extremada necesidad accesan a ellos para modificarlos.**"
   ]
  },
  {
   "cell_type": "code",
   "execution_count": null,
   "metadata": {},
   "outputs": [],
   "source": [
    "print(dir(obja))"
   ]
  },
  {
   "cell_type": "code",
   "execution_count": null,
   "metadata": {},
   "outputs": [],
   "source": [
    "obja._Mensaje_Secreto__mensaje\n",
    "#obja._Mensaje_Secreto__password"
   ]
  },
  {
   "cell_type": "markdown",
   "metadata": {},
   "source": [
    "### Ejemplo"
   ]
  },
  {
   "cell_type": "code",
   "execution_count": null,
   "metadata": {
    "colab": {},
    "colab_type": "code",
    "id": "S_sJ8gnpKJLE"
   },
   "outputs": [],
   "source": [
    "# El siguiente ejemplo encapsula el nombre del carro y su velocidad máxima, \n",
    "# para posteriormente utilizarlos de forma interna por sus métodos.\n",
    "class Carro:\n",
    "    __maxspeed = 0\n",
    "    __nombre = \"\"\n",
    " \n",
    "    def __init__(self):\n",
    "        self.__maxspeed = 200\n",
    "        self.__nombre = \"Supercar\"\n",
    " \n",
    "    def manejar(self):\n",
    "        print (\"Manejando a una velocidad máxima de \" + str(self.__maxspeed))\n",
    " "
   ]
  },
  {
   "cell_type": "code",
   "execution_count": null,
   "metadata": {},
   "outputs": [],
   "source": [
    "issubclass(Carro,object)"
   ]
  },
  {
   "cell_type": "code",
   "execution_count": null,
   "metadata": {
    "colab": {},
    "colab_type": "code",
    "id": "45pKIlt5KJLH",
    "outputId": "74d76017-f511-4cca-e6e0-563a50cc4ce5"
   },
   "outputs": [],
   "source": [
    "redcar = Carro()\n",
    "redcar.manejar()"
   ]
  },
  {
   "cell_type": "code",
   "execution_count": null,
   "metadata": {},
   "outputs": [],
   "source": [
    "help(redcar)"
   ]
  },
  {
   "cell_type": "code",
   "execution_count": null,
   "metadata": {
    "colab": {},
    "colab_type": "code",
    "id": "D1py-ODNKJLK"
   },
   "outputs": [],
   "source": [
    "#redcar.__maxspeed"
   ]
  },
  {
   "cell_type": "code",
   "execution_count": null,
   "metadata": {
    "colab": {},
    "colab_type": "code",
    "id": "W0PJW8_dKJLM"
   },
   "outputs": [],
   "source": [
    "#redcar.__nombre"
   ]
  },
  {
   "cell_type": "markdown",
   "metadata": {},
   "source": [
    "Las variables encapsuladas no se pueden modificar desde fuera de la clase, en el siguiente ejemplo, el objeto recibe 2 nuevos valores, pero los asigna a 2 nuevas variables, que no están encapsuladas por no haberse creado desde dentro de una clase:"
   ]
  },
  {
   "cell_type": "code",
   "execution_count": null,
   "metadata": {},
   "outputs": [],
   "source": [
    "print(vars(redcar))"
   ]
  },
  {
   "cell_type": "code",
   "execution_count": null,
   "metadata": {
    "colab": {},
    "colab_type": "code",
    "id": "Owy4C-AMKJLO",
    "outputId": "ee6870bf-9606-402b-ac2c-5ece28e763e1"
   },
   "outputs": [],
   "source": [
    "redcar.__maxspeed = 10             # La variable no se reasignara porque es privada\n",
    "redcar.__nombre = \"Rayo McQueen\"   # La variable no se reasignara porque es privada\n",
    "redcar.manejar()"
   ]
  },
  {
   "cell_type": "code",
   "execution_count": null,
   "metadata": {
    "colab": {},
    "colab_type": "code",
    "id": "P_jSLthyKJLQ",
    "outputId": "3bbb9782-ddf6-4606-e3c8-fd8ab6e46dd4"
   },
   "outputs": [],
   "source": [
    "redcar.__nombre"
   ]
  },
  {
   "cell_type": "code",
   "execution_count": null,
   "metadata": {
    "colab": {},
    "colab_type": "code",
    "id": "2onBtHfvKJLS",
    "outputId": "a3f4e9a3-c4f9-4dfc-86fb-61ab216e5b5e"
   },
   "outputs": [],
   "source": [
    "redcar.__maxspeed"
   ]
  },
  {
   "cell_type": "code",
   "execution_count": null,
   "metadata": {
    "colab": {},
    "colab_type": "code",
    "id": "M29gVKfpKJLU",
    "outputId": "157ba12c-36cc-4958-f70d-6df5f7175447"
   },
   "outputs": [],
   "source": [
    "# Las variables encapsuladas, vienen acompañadas de la clase en donde se crearon:\n",
    "print(vars(redcar))"
   ]
  },
  {
   "cell_type": "code",
   "execution_count": null,
   "metadata": {
    "colab": {},
    "colab_type": "code",
    "id": "0AvHBLq1KJLX",
    "outputId": "ea024aed-b700-469a-cb5b-c50a41cbd997"
   },
   "outputs": [],
   "source": [
    "redcar.manejar()"
   ]
  },
  {
   "cell_type": "markdown",
   "metadata": {},
   "source": [
    "A pesar de que una variable esté encapsulada, uno puede acceder a ellas, mediante el uso de la sintaxis adecuada. Python **confia en el buen trato/uso que puedan hacer los usuarios de las variables encapsuladas:**"
   ]
  },
  {
   "cell_type": "code",
   "execution_count": null,
   "metadata": {},
   "outputs": [],
   "source": [
    "# No hacer lo siguiente, ya que no se estaría respetando el encapsulamiento\n",
    "redcar._Carro__maxspeed"
   ]
  },
  {
   "cell_type": "code",
   "execution_count": null,
   "metadata": {},
   "outputs": [],
   "source": [
    "# No hacer lo siguiente, ya que no se estaría respetando el encapsulamiento\n",
    "redcar._Carro__maxspeed=100\n",
    "redcar._Carro__maxspeed"
   ]
  },
  {
   "cell_type": "code",
   "execution_count": null,
   "metadata": {},
   "outputs": [],
   "source": [
    "vars(redcar)"
   ]
  },
  {
   "cell_type": "markdown",
   "metadata": {},
   "source": [
    "<a id=\"section901\"></a>\n",
    "### Encapsulando Métodos"
   ]
  },
  {
   "cell_type": "markdown",
   "metadata": {},
   "source": [
    "Como ya se vio, el encapsulamiento en Python realmente previene que el usuario accese información de manera accidental. Sin embargo el acceso de la información es posible si así uno lo desea. Al tratar con métodos, la técnica de encapsulamiento es la misma que para los atributos:"
   ]
  },
  {
   "cell_type": "code",
   "execution_count": null,
   "metadata": {},
   "outputs": [],
   "source": [
    "class Mult_Oculta:\n",
    "    def __init__(self, x,y):\n",
    "        self.x=x\n",
    "        self.y=y\n",
    "    def __operacion(self):\n",
    "        return self.x*self.y"
   ]
  },
  {
   "cell_type": "code",
   "execution_count": null,
   "metadata": {},
   "outputs": [],
   "source": [
    "obj_mult=Mult_Oculta(3,6)\n",
    "obj_mult.x"
   ]
  },
  {
   "cell_type": "code",
   "execution_count": null,
   "metadata": {},
   "outputs": [],
   "source": [
    "#help(obj_mult)"
   ]
  },
  {
   "cell_type": "code",
   "execution_count": null,
   "metadata": {},
   "outputs": [],
   "source": [
    "#obj_mult.__operacion()"
   ]
  },
  {
   "cell_type": "code",
   "execution_count": null,
   "metadata": {},
   "outputs": [],
   "source": [
    "obj_mult._Mult_Oculta__operacion()"
   ]
  },
  {
   "cell_type": "code",
   "execution_count": null,
   "metadata": {},
   "outputs": [],
   "source": [
    "class Ejemplo:\n",
    "    publico=\"Este atributo es público\"\n",
    "    _protegido=\"Este atributo es protegido\"\n",
    "    __privado=\"Este atributo es privado\""
   ]
  },
  {
   "cell_type": "code",
   "execution_count": null,
   "metadata": {},
   "outputs": [],
   "source": [
    "obj_ej=Ejemplo()"
   ]
  },
  {
   "cell_type": "code",
   "execution_count": null,
   "metadata": {},
   "outputs": [],
   "source": [
    "vars(obj_ej)"
   ]
  },
  {
   "cell_type": "code",
   "execution_count": null,
   "metadata": {},
   "outputs": [],
   "source": [
    "print(dir(obj_ej))"
   ]
  },
  {
   "cell_type": "code",
   "execution_count": null,
   "metadata": {},
   "outputs": [],
   "source": [
    "obj_ej.publico"
   ]
  },
  {
   "cell_type": "code",
   "execution_count": null,
   "metadata": {},
   "outputs": [],
   "source": [
    "obj_ej._protegido"
   ]
  },
  {
   "cell_type": "code",
   "execution_count": null,
   "metadata": {},
   "outputs": [],
   "source": [
    "obj_ej._protegido=\"Hola\"\n",
    "obj_ej._protegido"
   ]
  },
  {
   "cell_type": "code",
   "execution_count": null,
   "metadata": {},
   "outputs": [],
   "source": [
    "vars(obj_ej)"
   ]
  },
  {
   "cell_type": "code",
   "execution_count": null,
   "metadata": {},
   "outputs": [],
   "source": [
    "#obj_ej.__privado\n",
    "obj_ej._Ejemplo__privado"
   ]
  },
  {
   "cell_type": "code",
   "execution_count": null,
   "metadata": {},
   "outputs": [],
   "source": [
    "vars(obj_ej)"
   ]
  },
  {
   "cell_type": "markdown",
   "metadata": {},
   "source": [
    "<a id=\"section902\"></a>\n",
    "### Getters & Setters"
   ]
  },
  {
   "cell_type": "markdown",
   "metadata": {},
   "source": [
    "Una práctica común, al momento de generar atributos ocultos, es el uso de otros métodos publicos para su manejo, o incluso redefinirlos. Estos métodos especiales que sirven para acceder a los valores privados se conocen como **Get** (obtener, conseguir) y el **Set** (establecer, colocar)."
   ]
  },
  {
   "cell_type": "code",
   "execution_count": null,
   "metadata": {},
   "outputs": [],
   "source": [
    "class P:\n",
    "\n",
    "    def __init__(self,x):\n",
    "        self.__x = x\n",
    "\n",
    "    def GetX(self):\n",
    "        return self.__x\n",
    "\n",
    "    def SetX(self, x):\n",
    "        self.__x = x"
   ]
  },
  {
   "cell_type": "code",
   "execution_count": null,
   "metadata": {},
   "outputs": [],
   "source": [
    "p1=P(42)"
   ]
  },
  {
   "cell_type": "code",
   "execution_count": null,
   "metadata": {},
   "outputs": [],
   "source": [
    "p2 = P(4711)"
   ]
  },
  {
   "cell_type": "code",
   "execution_count": null,
   "metadata": {},
   "outputs": [],
   "source": [
    "vars(p1)"
   ]
  },
  {
   "cell_type": "code",
   "execution_count": null,
   "metadata": {},
   "outputs": [],
   "source": [
    "p1.__x=10"
   ]
  },
  {
   "cell_type": "code",
   "execution_count": null,
   "metadata": {},
   "outputs": [],
   "source": [
    "vars(p1)"
   ]
  },
  {
   "cell_type": "code",
   "execution_count": null,
   "metadata": {},
   "outputs": [],
   "source": [
    "p1.SetX(30)\n",
    "vars(p1)"
   ]
  },
  {
   "cell_type": "code",
   "execution_count": null,
   "metadata": {},
   "outputs": [],
   "source": [
    "p1.GetX()"
   ]
  },
  {
   "cell_type": "code",
   "execution_count": null,
   "metadata": {},
   "outputs": [],
   "source": [
    "vars(p2)"
   ]
  },
  {
   "cell_type": "code",
   "execution_count": null,
   "metadata": {},
   "outputs": [],
   "source": [
    "p2.SetX(70)"
   ]
  },
  {
   "cell_type": "code",
   "execution_count": null,
   "metadata": {},
   "outputs": [],
   "source": [
    "p2.GetX()"
   ]
  },
  {
   "cell_type": "code",
   "execution_count": null,
   "metadata": {},
   "outputs": [],
   "source": [
    "vars(p2)"
   ]
  },
  {
   "cell_type": "code",
   "execution_count": null,
   "metadata": {},
   "outputs": [],
   "source": [
    "#a=p1+p2"
   ]
  },
  {
   "cell_type": "code",
   "execution_count": null,
   "metadata": {},
   "outputs": [],
   "source": [
    "a=p1.GetX()+p2.GetX()\n",
    "a"
   ]
  },
  {
   "cell_type": "markdown",
   "metadata": {},
   "source": [
    "Una forma de utilizar los getters y setters, y de hacerlos interactuar con los métodos internos de la clase, es mediante el uso del parametro **self**"
   ]
  },
  {
   "cell_type": "code",
   "execution_count": null,
   "metadata": {},
   "outputs": [],
   "source": [
    "class Suma_Oculta:\n",
    "    __x=0\n",
    "    __y=0\n",
    "    def set_x(self,x):\n",
    "        __x=x\n",
    "        self.__x=__x\n",
    "    def get_x(self):\n",
    "        return self.__x\n",
    "    def set_y(self,y):\n",
    "        __y=y\n",
    "        self.__y=__y\n",
    "    def get_y(self):\n",
    "        return self.__y\n",
    "    def calcular(self):\n",
    "        return self.__x+self.__y"
   ]
  },
  {
   "cell_type": "code",
   "execution_count": null,
   "metadata": {},
   "outputs": [],
   "source": [
    "obj_suma=Suma_Oculta()"
   ]
  },
  {
   "cell_type": "code",
   "execution_count": null,
   "metadata": {},
   "outputs": [],
   "source": [
    "vars(obj_suma)"
   ]
  },
  {
   "cell_type": "code",
   "execution_count": null,
   "metadata": {},
   "outputs": [],
   "source": [
    "help(obj_suma)"
   ]
  },
  {
   "cell_type": "code",
   "execution_count": null,
   "metadata": {},
   "outputs": [],
   "source": [
    "obj_suma.get_x()"
   ]
  },
  {
   "cell_type": "code",
   "execution_count": null,
   "metadata": {},
   "outputs": [],
   "source": [
    "obj_suma.get_y()"
   ]
  },
  {
   "cell_type": "code",
   "execution_count": null,
   "metadata": {},
   "outputs": [],
   "source": [
    "obj_suma.set_x(6)\n",
    "obj_suma.set_y(-5)"
   ]
  },
  {
   "cell_type": "code",
   "execution_count": null,
   "metadata": {},
   "outputs": [],
   "source": [
    "#obj_suma.__y"
   ]
  },
  {
   "cell_type": "code",
   "execution_count": null,
   "metadata": {},
   "outputs": [],
   "source": [
    "vars(obj_suma)"
   ]
  },
  {
   "cell_type": "code",
   "execution_count": null,
   "metadata": {},
   "outputs": [],
   "source": [
    "obj_suma.get_x()"
   ]
  },
  {
   "cell_type": "code",
   "execution_count": null,
   "metadata": {},
   "outputs": [],
   "source": [
    "obj_suma.get_y()"
   ]
  },
  {
   "cell_type": "code",
   "execution_count": null,
   "metadata": {},
   "outputs": [],
   "source": [
    "obj_suma.calcular()"
   ]
  },
  {
   "cell_type": "code",
   "execution_count": null,
   "metadata": {},
   "outputs": [],
   "source": [
    "for i in range(0,50,5):\n",
    "    obj_suma.set_x(i)\n",
    "    print(obj_suma.get_x(),\"+\",obj_suma.get_y(),\"=\",obj_suma.calcular())"
   ]
  },
  {
   "cell_type": "markdown",
   "metadata": {
    "colab_type": "text",
    "id": "4gt5ULdNKJLZ"
   },
   "source": [
    "<a id=\"section91\"></a> \n",
    "# <font color=\"#004D7F\"> 3.10 Herencia</font>"
   ]
  },
  {
   "cell_type": "markdown",
   "metadata": {},
   "source": [
    "<a id=\"section911\"></a>\n",
    "## Herencia simple"
   ]
  },
  {
   "cell_type": "code",
   "execution_count": null,
   "metadata": {},
   "outputs": [],
   "source": [
    "# A modo de repaso, mostraremos el uso de la clase \"object\" para crear nuevas clases:\n",
    "\n",
    "class A:\n",
    "    pass\n",
    "\n",
    "class B():\n",
    "    pass\n",
    "\n",
    "class C(object):\n",
    "    pass"
   ]
  },
  {
   "cell_type": "markdown",
   "metadata": {},
   "source": [
    "En los 3 casos anteriores, la sintaxis aunque diferente, el resultado es el mísmo. En los 3 casos, las clases nuevas son subclases de la clase object, la cual es la clase predefinida en Python."
   ]
  },
  {
   "cell_type": "code",
   "execution_count": null,
   "metadata": {},
   "outputs": [],
   "source": [
    "issubclass(A,object)"
   ]
  },
  {
   "cell_type": "code",
   "execution_count": null,
   "metadata": {},
   "outputs": [],
   "source": [
    "issubclass(B,object)"
   ]
  },
  {
   "cell_type": "code",
   "execution_count": null,
   "metadata": {},
   "outputs": [],
   "source": [
    "issubclass(C,object)"
   ]
  },
  {
   "cell_type": "markdown",
   "metadata": {},
   "source": [
    "En la herencia simple no hace falta indicar otro tipo de parametros, los métodos y atributos pasan de forma automática."
   ]
  },
  {
   "cell_type": "code",
   "execution_count": null,
   "metadata": {},
   "outputs": [],
   "source": [
    "class Persona:\n",
    "    nombre=\"Edgar\"\n",
    "\n",
    "class Alumno(Persona):\n",
    "    pass"
   ]
  },
  {
   "cell_type": "code",
   "execution_count": null,
   "metadata": {},
   "outputs": [],
   "source": [
    "estudiante=Alumno()"
   ]
  },
  {
   "cell_type": "code",
   "execution_count": null,
   "metadata": {},
   "outputs": [],
   "source": [
    "estudiante.nombre"
   ]
  },
  {
   "cell_type": "markdown",
   "metadata": {},
   "source": [
    "## Actividad\n",
    "\n",
    "Crear las siguientes clases, con los métodos y atributos indicados:\n",
    "\n",
    "1. Clase llamada sistema planetario con los siguientes atributos:\n",
    "    * masa= 5.97e24\n",
    "    * radio= 6371000\n",
    "    * G=\"6.67e-11\n",
    "\n",
    "    y con los siguientes métodos:\n",
    "    * Rotación, indicar que el sistema esta rotando sobre su eje\n",
    "    * Traslación, indicar que el sistema se traslada sobre una galaxia\n",
    "    * Gravedad: $$a=G\\frac{masa}{radio^2}$$\n",
    "    \n",
    "2. Una clase llamada planeta que herede de sistema planetario, y que ademas contenga los siguientes atributos:\n",
    "    * Lunas  (Integer)\n",
    "    * Anillos(Boolean)\n",
    "3. Una clase llamada estrella que herede de sistema planetario y que ademas contenga los siguientes atributos:\n",
    "    * Tamaño (String)\n",
    "    * Color  (String)\n",
    "    * Tiempo (Integer)\n",
    "    \n",
    "    \n",
    "       utiliza el destructor para que imprima el siguiente mensaje:\n",
    "    * \"La estrella va a colapsar\" \n",
    "4. Dos instancias, una llamada tierra, y otra sol, con su respectiva clase."
   ]
  },
  {
   "cell_type": "code",
   "execution_count": null,
   "metadata": {},
   "outputs": [],
   "source": [
    "# Primera clase:\n",
    "\n",
    "class Sistema_Planetario:\n",
    "    masa=5.97e24\n",
    "    radio=6371000\n",
    "    G=6.67e-11\n",
    "    def Rotacion(self):\n",
    "        print(\"El cuerpo rota sobre su propio eje\")\n",
    "    def Traslacion(self):\n",
    "        print(\"El cuerpo se traslada en el sistema\")\n",
    "    def Gravedad(self):\n",
    "        g=self.G*self.masa/(self.radio**2)\n",
    "        compara=g/9.81\n",
    "        print(round(g,2), \"m/s^2\",\", igual a \", round(compara,1), \"G\")"
   ]
  },
  {
   "cell_type": "code",
   "execution_count": null,
   "metadata": {},
   "outputs": [],
   "source": [
    "# Segunda clase:\n",
    "class Planeta(Sistema_Planetario):\n",
    "    def __init__ (self, lunas, anillos=False):\n",
    "        self.lunas=lunas\n",
    "        self.anillos=anillos"
   ]
  },
  {
   "cell_type": "code",
   "execution_count": null,
   "metadata": {},
   "outputs": [],
   "source": [
    "# Tercera clase:\n",
    "class Estrella (Sistema_Planetario):\n",
    "    def __init__ (self, color, tamaño, tiempo):\n",
    "        self.color=color\n",
    "        self.tamaño=tamaño\n",
    "        self.tiempo=tiempo\n",
    "    def __del__(self):\n",
    "        print(\"La estrella va a colapsar\")\n",
    "        for i in range(self.tiempo):\n",
    "            print(self.tiempo-i)\n",
    "        else:\n",
    "            print(\"La estrella colapsó\")\n",
    "            def __del__(self):\n",
    "                pass"
   ]
  },
  {
   "cell_type": "code",
   "execution_count": null,
   "metadata": {},
   "outputs": [],
   "source": [
    "# Clase bonus:\n",
    "class Luna(Sistema_Planetario):\n",
    "    pass"
   ]
  },
  {
   "cell_type": "code",
   "execution_count": null,
   "metadata": {},
   "outputs": [],
   "source": [
    "tierra=Planeta(1)"
   ]
  },
  {
   "cell_type": "code",
   "execution_count": null,
   "metadata": {},
   "outputs": [],
   "source": [
    "tierra.Gravedad()"
   ]
  },
  {
   "cell_type": "code",
   "execution_count": null,
   "metadata": {},
   "outputs": [],
   "source": [
    "jupiter=Planeta(79)"
   ]
  },
  {
   "cell_type": "code",
   "execution_count": null,
   "metadata": {},
   "outputs": [],
   "source": [
    "jupiter.masa=1.898e27\n",
    "jupiter.radio=69911000"
   ]
  },
  {
   "cell_type": "code",
   "execution_count": null,
   "metadata": {},
   "outputs": [],
   "source": [
    "jupiter.Gravedad()"
   ]
  },
  {
   "cell_type": "code",
   "execution_count": null,
   "metadata": {},
   "outputs": [],
   "source": [
    "selene=Luna()"
   ]
  },
  {
   "cell_type": "code",
   "execution_count": null,
   "metadata": {},
   "outputs": [],
   "source": [
    "selene.masa=7.349e22\n",
    "selene.radio=1738000"
   ]
  },
  {
   "cell_type": "code",
   "execution_count": null,
   "metadata": {},
   "outputs": [],
   "source": [
    "selene.Gravedad()"
   ]
  },
  {
   "cell_type": "code",
   "execution_count": null,
   "metadata": {},
   "outputs": [],
   "source": [
    "sol=Estrella(\"naranja\", \"enana\", 5)"
   ]
  },
  {
   "cell_type": "code",
   "execution_count": null,
   "metadata": {},
   "outputs": [],
   "source": [
    "sol"
   ]
  },
  {
   "cell_type": "code",
   "execution_count": null,
   "metadata": {},
   "outputs": [],
   "source": [
    "sol.Rotacion()"
   ]
  },
  {
   "cell_type": "code",
   "execution_count": null,
   "metadata": {},
   "outputs": [],
   "source": [
    "sol.masa=1.989e30\n",
    "sol.radio=695510000"
   ]
  },
  {
   "cell_type": "code",
   "execution_count": null,
   "metadata": {},
   "outputs": [],
   "source": [
    "sol.Gravedad()"
   ]
  },
  {
   "cell_type": "code",
   "execution_count": null,
   "metadata": {},
   "outputs": [],
   "source": [
    "del sol"
   ]
  },
  {
   "cell_type": "code",
   "execution_count": null,
   "metadata": {},
   "outputs": [],
   "source": [
    "# Con la ejecución de la linea anterior, el objeto sol dejó de existir, \n",
    "# por lo que invocarlo generaría un error:\n",
    "\n",
    "#sol"
   ]
  },
  {
   "cell_type": "markdown",
   "metadata": {},
   "source": [
    "<a id=\"section912\"></a>\n",
    "## Herencia por medio de super()"
   ]
  },
  {
   "cell_type": "markdown",
   "metadata": {},
   "source": [
    "El método super(), nos sirve para indicar que tipo de métodos o atributos son los que queremos pasar a nuestras sub clases. Este proceso se suele utilizar cuando hay un constructor de por medio."
   ]
  },
  {
   "cell_type": "code",
   "execution_count": null,
   "metadata": {},
   "outputs": [],
   "source": [
    "class Persona:\n",
    "    def __init__(self, Nombre, Apellido, Edad):\n",
    "        self.Nombre=Nombre\n",
    "        self.Apellido=Apellido\n",
    "        self.Edad=Edad\n",
    "    def Comer(self):\n",
    "        print(self.Nombre, \"está comiendo\")\n",
    "\n",
    "class Alumno(Persona):\n",
    "    def __init__(self, Nombre, Apellido, Edad, Carrera, Semestre):\n",
    "        super().__init__(Nombre, Apellido, Edad)\n",
    "        self.Carrera=Carrera\n",
    "        self.Semestre=Semestre\n",
    "    def Estudiar(self):\n",
    "        print(self.Nombre,\"estudia el\", self.Semestre, \"semestre\")"
   ]
  },
  {
   "cell_type": "code",
   "execution_count": null,
   "metadata": {},
   "outputs": [],
   "source": [
    "edgar=Alumno(\"Edgar\", \"Avalos\", 32, \"Industrial\", 8)"
   ]
  },
  {
   "cell_type": "code",
   "execution_count": null,
   "metadata": {},
   "outputs": [],
   "source": [
    "edgar.Estudiar()"
   ]
  },
  {
   "cell_type": "markdown",
   "metadata": {},
   "source": [
    "## Actividad\n",
    "\n",
    "Crear 6 clases con las siguientes características:\n",
    "\n",
    "1. Una clase de nombre Funcionamiento que tenga como atributo motor(string: \"Si\"), fallas(bool:False) y como método funcionar.\n",
    "\n",
    "\n",
    "2. Una clase de nombre Descompuesto que tenga como atributo motor(string: \"No\"), fallas(bool:True), y como método funcionar.\n",
    "\n",
    "\n",
    "3. Una clase llamada Vehículo que herede de Funcionamiento y de Descompuesto. Ademas tendrá en su constructor un mensaje que indique que se ha creado un vehículo\n",
    "\n",
    "\n",
    "4. Una clase coche con constructor, 3 atributos dentro del constructor, y 1 método\n",
    "\n",
    "\n",
    "5. Una clase coche con constructor, 3 atributos dentro del constructor, y 1 método\n",
    "\n",
    "\n",
    "6. Una clase coche con constructor, 3 atributos dentro del constructor, y 1 método"
   ]
  },
  {
   "cell_type": "code",
   "execution_count": null,
   "metadata": {},
   "outputs": [],
   "source": [
    "class Funcionamiento:\n",
    "    def __init__(self, motor=\"Si\", fallas=False):\n",
    "        self.motor=motor\n",
    "        self.fallas=fallas\n",
    "    def funcionar(self):\n",
    "        self.motor=\"Si\"\n",
    "        self.fallas=False\n",
    "        print(\"El motor anda bien\")\n",
    "\n",
    "\n",
    "class Descompuesto:\n",
    "    def __init__(self, motor=\"No\", fallas=True):\n",
    "        self.motor=motor\n",
    "        self.fallas=fallas\n",
    "    def funcionar(self):\n",
    "        self.motor=\"No\"\n",
    "        self.fallas=True\n",
    "        print(\"El motor se averió\")"
   ]
  },
  {
   "cell_type": "code",
   "execution_count": null,
   "metadata": {},
   "outputs": [],
   "source": [
    "class Vehiculo(Funcionamiento, Descompuesto):\n",
    "    def __init__(self,motor=\"Si\", fallas=False):\n",
    "        print(\"Se ha creado un nuevo vehículo\")\n",
    "        Funcionamiento.__init__(self, motor, fallas)\n",
    "    def nofuncionar(self):\n",
    "        Descompuesto.funcionar(self)"
   ]
  },
  {
   "cell_type": "code",
   "execution_count": null,
   "metadata": {},
   "outputs": [],
   "source": [
    "class Coche(Vehiculo):\n",
    "    def __init__(self, color, marca, modelo, motor=\"Si\", fallas=False):\n",
    "        self.color=color\n",
    "        self.marca=marca\n",
    "        self.modelo=modelo\n",
    "        Vehiculo.__init__(self, motor, fallas)\n",
    "    def Activarluces(self):\n",
    "        print(\"Las luces se han encendido\")"
   ]
  },
  {
   "cell_type": "markdown",
   "metadata": {},
   "source": [
    "<a id=\"section913\"></a>\n",
    "## Herencia multiple"
   ]
  },
  {
   "cell_type": "markdown",
   "metadata": {},
   "source": [
    "En Python, a diferencia de C#, se permite la herencia múltiple, es decir, una clase puede heredar de varias clases a la vez. Basta con enumerar las clases de las que se hereda separándolas por comas:"
   ]
  },
  {
   "cell_type": "code",
   "execution_count": null,
   "metadata": {},
   "outputs": [],
   "source": [
    "class Terrestre:\n",
    "    def __init__(self, velocidad_andar):\n",
    "        print(\"Este es un animal terrestre\")\n",
    "        self.velocidad_andar = velocidad_andar\n",
    "    def desplazar(self):\n",
    "        print (\"El animal anda a \" + str(self.velocidad_andar) + \" km/hr\")\n",
    "\n",
    "class Acuatico:\n",
    "    def __init__(self, velocidad_nadar):\n",
    "        print(\"Este es un animal acuático\")\n",
    "        self.velocidad_nadar = velocidad_nadar\n",
    "    def desplazar(self):\n",
    "        print (\"El animal nada a \" + str(self.velocidad_nadar) + \" km/hr\")"
   ]
  },
  {
   "cell_type": "markdown",
   "metadata": {},
   "source": [
    "Crearemos unas subclases y unas instancias de las 2 clases superiores previamente creadas:"
   ]
  },
  {
   "cell_type": "code",
   "execution_count": null,
   "metadata": {},
   "outputs": [],
   "source": [
    "class Perro(Terrestre):\n",
    "    pass"
   ]
  },
  {
   "cell_type": "code",
   "execution_count": null,
   "metadata": {},
   "outputs": [],
   "source": [
    "fido=Perro(10)"
   ]
  },
  {
   "cell_type": "code",
   "execution_count": null,
   "metadata": {},
   "outputs": [],
   "source": [
    "fido.desplazar()"
   ]
  },
  {
   "cell_type": "code",
   "execution_count": null,
   "metadata": {},
   "outputs": [],
   "source": [
    "class Ballena(Acuatico):\n",
    "    pass"
   ]
  },
  {
   "cell_type": "code",
   "execution_count": null,
   "metadata": {},
   "outputs": [],
   "source": [
    "keiko=Ballena(20)"
   ]
  },
  {
   "cell_type": "code",
   "execution_count": null,
   "metadata": {},
   "outputs": [],
   "source": [
    "keiko.desplazar()"
   ]
  },
  {
   "cell_type": "markdown",
   "metadata": {},
   "source": [
    "La herencia sencilla y la instanciación fueron correctas. Ahora procedemos a crear un animal que sea tanto terrestre como acuatico:"
   ]
  },
  {
   "cell_type": "code",
   "execution_count": null,
   "metadata": {},
   "outputs": [],
   "source": [
    "class Cocodrilo(Terrestre, Acuatico):\n",
    "    def __init__(self, velocidad_andar, velocidad_nadar):\n",
    "        Terrestre.__init__(self, velocidad_andar) # Constructor clase Terrestre\n",
    "        Acuatico.__init__(self, velocidad_nadar)  # Constructor clase Acuático"
   ]
  },
  {
   "cell_type": "markdown",
   "metadata": {},
   "source": [
    "En la herencia múltiple, no es posible utilizar el método **super()**, debido a que hay varias clases superiores. Por ello es necesario especificar que elementos se quieren recibir y la clase de donde provienen. La sintaxis para ello es:\n",
    "\n",
    "---------------------------------------------------------------------------------------------------------------------------\n",
    "\n",
    "                              ClaseSuperior.MétodoSolicitado(self,[args])\n",
    "\n",
    "---------------------------------------------------------------------------------------------------------------------------\n",
    "Donde [args] corresponde al argumento o argumentos que necesite dicho método para funcionar de forma correcta.\n",
    "La nueva clase ahora necesita de 2 atributos para poder crear instancias, por un lado la velocidad en tierra y por otro la velocidad en el agua:"
   ]
  },
  {
   "cell_type": "code",
   "execution_count": null,
   "metadata": {},
   "outputs": [],
   "source": [
    "dundee=Cocodrilo(20,25)"
   ]
  },
  {
   "cell_type": "markdown",
   "metadata": {},
   "source": [
    "La instanciación fue correcta. Sin embargo, al contar ambas clases con un método del mismo nombre, solamente el método de la primera clase superior se mantendra, i.e. Terrestre:"
   ]
  },
  {
   "cell_type": "code",
   "execution_count": null,
   "metadata": {},
   "outputs": [],
   "source": [
    "dundee.desplazar()"
   ]
  },
  {
   "cell_type": "code",
   "execution_count": null,
   "metadata": {},
   "outputs": [],
   "source": [
    "print(dir(dundee))"
   ]
  },
  {
   "cell_type": "markdown",
   "metadata": {},
   "source": [
    "Para poder mantener el método de la clase superior Acuático, será necesario llamarlo directamente desde la clase. Para ello habrá que sobreescribir la clase de la siguiente manera:"
   ]
  },
  {
   "cell_type": "code",
   "execution_count": null,
   "metadata": {},
   "outputs": [],
   "source": [
    "class Cocodrilo(Terrestre, Acuatico):\n",
    "    def __init__(self, velocidad_andar, velocidad_nadar):\n",
    "        Terrestre.__init__(self, velocidad_andar) \n",
    "        Acuatico.__init__(self, velocidad_nadar) \n",
    "    def desplazar_agua(self): # Método nuevo para cargar el método desplazar de la clase Acuático\n",
    "        Acuatico.desplazar(self)"
   ]
  },
  {
   "cell_type": "code",
   "execution_count": null,
   "metadata": {},
   "outputs": [],
   "source": [
    "swampy = Cocodrilo(10,5)\n",
    "swampy.desplazar_agua()"
   ]
  },
  {
   "cell_type": "code",
   "execution_count": null,
   "metadata": {
    "scrolled": false
   },
   "outputs": [],
   "source": [
    "swampy.desplazar()"
   ]
  },
  {
   "cell_type": "markdown",
   "metadata": {},
   "source": [
    "### Ejemplo herencia múltiple"
   ]
  },
  {
   "cell_type": "markdown",
   "metadata": {},
   "source": [
    "Una de las posibilidades al momento de utilizar el constructor para crear una clase, es poder tambien imprimir un mensaje por cada instancia creada:"
   ]
  },
  {
   "cell_type": "code",
   "execution_count": null,
   "metadata": {},
   "outputs": [],
   "source": [
    "class Felino:\n",
    "    def __init__(self):\n",
    "        print (\"Se creo un felino\")\n",
    " \n",
    "    def UsarGarras(self,garra=False):\n",
    "        if garra==True:\n",
    "            print (\"El felino esta mostrando sus garras\")\n",
    "        else:\n",
    "            print(\"El felino retrajo sus garras\")"
   ]
  },
  {
   "cell_type": "code",
   "execution_count": null,
   "metadata": {},
   "outputs": [],
   "source": [
    "tigre=Felino()"
   ]
  },
  {
   "cell_type": "code",
   "execution_count": null,
   "metadata": {},
   "outputs": [],
   "source": [
    "tigre.UsarGarras(garra=True)"
   ]
  },
  {
   "cell_type": "code",
   "execution_count": null,
   "metadata": {},
   "outputs": [],
   "source": [
    "class Mascota:\n",
    "    def __init__(self):\n",
    "        print (\"Se creo una mascota\")\n",
    " \n",
    "    def sientate(self):\n",
    "        print (\"La mascota se sentó\")"
   ]
  },
  {
   "cell_type": "code",
   "execution_count": null,
   "metadata": {},
   "outputs": [],
   "source": [
    "perro=Mascota()"
   ]
  },
  {
   "cell_type": "code",
   "execution_count": null,
   "metadata": {},
   "outputs": [],
   "source": [
    "perro.sientate()"
   ]
  },
  {
   "cell_type": "code",
   "execution_count": null,
   "metadata": {},
   "outputs": [],
   "source": [
    "class Gato(Felino, Mascota):\n",
    "    def __init__(self, energia, hambre):\n",
    "        self.energia = energia\n",
    "        self.hambre = hambre\n",
    "        print (\"Se creo un gato\")\n",
    " \n",
    "    def acariciar(self):\n",
    "        print (\"prrrrr...\")\n",
    "        \n",
    "    def dormir(self, horas):\n",
    "        self.energia += horas\n",
    "        print (\"El gato tomo una siesta\")\n",
    "    \n",
    "    def tomar_leche(self, leche_en_litros):\n",
    "        if self.hambre>5:\n",
    "            print (\"El gato tiene sueño\")\n",
    "        else:\n",
    "            self.hambre += leche_en_litros\n",
    "            print (\"El gato toma su leche\")\n",
    "\n",
    "    def jugar(self):\n",
    "        if self.energia <= 0 or self.hambre <=1:\n",
    "            print (\"El gato no quiero jugar\")\n",
    "        else:\n",
    "            self.energia -=1\n",
    "            self.hambre -= 2\n",
    "            print (\"Al gato le encanta jugar\")"
   ]
  },
  {
   "cell_type": "code",
   "execution_count": null,
   "metadata": {},
   "outputs": [],
   "source": [
    "garfield=Gato(0,0)"
   ]
  },
  {
   "cell_type": "code",
   "execution_count": null,
   "metadata": {},
   "outputs": [],
   "source": [
    "garfield.acariciar()"
   ]
  },
  {
   "cell_type": "code",
   "execution_count": null,
   "metadata": {},
   "outputs": [],
   "source": [
    "garfield.jugar()"
   ]
  },
  {
   "cell_type": "code",
   "execution_count": null,
   "metadata": {},
   "outputs": [],
   "source": [
    "garfield.tomar_leche(6)"
   ]
  },
  {
   "cell_type": "code",
   "execution_count": null,
   "metadata": {},
   "outputs": [],
   "source": [
    "garfield.tomar_leche(6)"
   ]
  },
  {
   "cell_type": "code",
   "execution_count": null,
   "metadata": {},
   "outputs": [],
   "source": [
    "garfield.sientate()"
   ]
  },
  {
   "cell_type": "code",
   "execution_count": null,
   "metadata": {},
   "outputs": [],
   "source": [
    "garfield.dormir(8)"
   ]
  },
  {
   "cell_type": "code",
   "execution_count": null,
   "metadata": {},
   "outputs": [],
   "source": [
    "vars(garfield)"
   ]
  },
  {
   "cell_type": "code",
   "execution_count": null,
   "metadata": {},
   "outputs": [],
   "source": [
    "while garfield.hambre>0:\n",
    "    garfield.jugar()"
   ]
  },
  {
   "cell_type": "code",
   "execution_count": null,
   "metadata": {},
   "outputs": [],
   "source": [
    "garfield.UsarGarras(True)"
   ]
  },
  {
   "cell_type": "markdown",
   "metadata": {},
   "source": [
    "<a id=\"section914\"></a>\n",
    "## Ejercicio para la reflexión crítica"
   ]
  },
  {
   "cell_type": "markdown",
   "metadata": {},
   "source": [
    "En el siguiente ejemplo se utilizan los conceptos de **encapsulamiento, herencia múltiple, manejo de listas y diccionarios,** y por último, mediante el uso de la instrucción **While, se hace uso del manejo de excepciones.** Este tema no fue abordado en el curso, por lo que se recomienda que se investigue al respecto. El ejercicio consiste en crear 3 clases, la primera llevará el nombre de Camara, la segunda el de Teléfono, y la tercera será ReproductorMP3. Finalmente se creará una cuarta clase que herede los métodos y atributos de las 3 clases anteriores:"
   ]
  },
  {
   "cell_type": "code",
   "execution_count": null,
   "metadata": {},
   "outputs": [],
   "source": [
    "class Camara:\n",
    "    def __init__(self):\n",
    "        self.__pixeles=15\n",
    "    def sacarFotos(self):\n",
    "        print(\"Tus fotografías tendran una resolución de\", self.__pixeles, \"Megapixeles\")\n",
    "\n",
    "class Telefono:\n",
    "    def __init__(self):\n",
    "        self.agenda={}\n",
    "    def Marcar(self):\n",
    "        print(\"ring-ring\")\n",
    "    def Agregar_nuevo_contacto(self, Nombre,telefono):\n",
    "        self.agenda[Nombre]=telefono\n",
    "    def Mostrar_contacto(self, Nombre):\n",
    "        print(Nombre,\":\",agenda[Nombre])"
   ]
  },
  {
   "cell_type": "code",
   "execution_count": null,
   "metadata": {},
   "outputs": [],
   "source": [
    "class ReproductorMp3:\n",
    "    def __init__(self):\n",
    "        self.genero=[]\n",
    "    def agregar_genero(self,gen):\n",
    "        self.genero.append(gen)\n",
    "    def reproducir_musica(self,gen):\n",
    "        ###################################################################\n",
    "        #                                                                 #\n",
    "        # La siguiente estructura corresponde a un manejo de excepciones: #\n",
    "        #                                                                 #\n",
    "        ###################################################################\n",
    "         while True:\n",
    "                try:\n",
    "                    print(\"Repdoduciendo el genero\", self.genero[gen])\n",
    "                    break\n",
    "                except TypeError:\n",
    "                    if gen in self.genero:\n",
    "                        indice=self.genero.index(gen)\n",
    "                        gen=indice\n",
    "                        print(\"Repdoduciendo el genero\", self.genero[gen])\n",
    "                        break\n",
    "                    else:\n",
    "                        print(\"El genero solicitado no está disponible\")\n",
    "                        break\n",
    "                except IndexError:\n",
    "                    print(\"El genero solicitado no está disponible\")\n",
    "                    break"
   ]
  },
  {
   "cell_type": "code",
   "execution_count": null,
   "metadata": {},
   "outputs": [],
   "source": [
    "# Recuerda que al hacer herencia simple, los métodos que tengan el mismo nombre, solamente el primero se mantendra.\n",
    "# Es por ello que en el siguiente ejemplo, solamente el constructor de Telefono esta presente en Celular\n",
    "\n",
    "class Celular(Telefono,Camara,ReproductorMp3):\n",
    "    pass"
   ]
  },
  {
   "cell_type": "code",
   "execution_count": null,
   "metadata": {},
   "outputs": [],
   "source": [
    "print(dir(Celular))"
   ]
  },
  {
   "cell_type": "markdown",
   "metadata": {},
   "source": [
    "Atributos como **genero**, que es parte del constructor de **ReproductorMP3**, o **pixeles** que es privado de **Camara**, no están presentes en la subclase. Para que dichos elementos aparezcan en la subclase, es necesario inicializar cada uno de sus constructores:"
   ]
  },
  {
   "cell_type": "code",
   "execution_count": null,
   "metadata": {},
   "outputs": [],
   "source": [
    "class Celular(Telefono,Camara,ReproductorMp3):\n",
    "    def __init__(self):\n",
    "        print(\"Gracias por adquirir tu celular con cámara y MP3\")\n",
    "        Camara.__init__(self)\n",
    "        Telefono.__init__(self)\n",
    "        ReproductorMp3.__init__(self)"
   ]
  },
  {
   "cell_type": "code",
   "execution_count": null,
   "metadata": {},
   "outputs": [],
   "source": [
    "cel = Celular()"
   ]
  },
  {
   "cell_type": "code",
   "execution_count": null,
   "metadata": {},
   "outputs": [],
   "source": [
    "cel.agenda"
   ]
  },
  {
   "cell_type": "code",
   "execution_count": null,
   "metadata": {},
   "outputs": [],
   "source": [
    "cel.genero"
   ]
  },
  {
   "cell_type": "code",
   "execution_count": null,
   "metadata": {},
   "outputs": [],
   "source": [
    "cel.reproducir_musica(0)"
   ]
  },
  {
   "cell_type": "code",
   "execution_count": null,
   "metadata": {},
   "outputs": [],
   "source": [
    "cel.agregar_genero(\"Rock\")"
   ]
  },
  {
   "cell_type": "code",
   "execution_count": null,
   "metadata": {},
   "outputs": [],
   "source": [
    "cel.reproducir_musica(0)"
   ]
  },
  {
   "cell_type": "code",
   "execution_count": null,
   "metadata": {},
   "outputs": [],
   "source": [
    "cel.reproducir_musica(\"Rock\")"
   ]
  },
  {
   "cell_type": "code",
   "execution_count": null,
   "metadata": {},
   "outputs": [],
   "source": [
    "cel.reproducir_musica(\"Pop\")"
   ]
  },
  {
   "cell_type": "code",
   "execution_count": null,
   "metadata": {},
   "outputs": [],
   "source": [
    "cel.reproducir_musica(1)"
   ]
  },
  {
   "cell_type": "code",
   "execution_count": null,
   "metadata": {},
   "outputs": [],
   "source": [
    "cel.Agregar_nuevo_contacto(\"Edgar\",5580138303)"
   ]
  },
  {
   "cell_type": "code",
   "execution_count": null,
   "metadata": {},
   "outputs": [],
   "source": [
    "cel.agenda"
   ]
  },
  {
   "cell_type": "code",
   "execution_count": null,
   "metadata": {},
   "outputs": [],
   "source": [
    "cel.agregar_genero(\"Pop\")"
   ]
  },
  {
   "cell_type": "code",
   "execution_count": null,
   "metadata": {},
   "outputs": [],
   "source": [
    "cel.genero"
   ]
  },
  {
   "cell_type": "code",
   "execution_count": null,
   "metadata": {},
   "outputs": [],
   "source": [
    "cel.sacarFotos()"
   ]
  },
  {
   "cell_type": "code",
   "execution_count": null,
   "metadata": {},
   "outputs": [],
   "source": [
    "cel.Marcar()"
   ]
  },
  {
   "cell_type": "markdown",
   "metadata": {
    "colab_type": "text",
    "id": "jW6hXHbuKJLZ"
   },
   "source": [
    "<a id=\"section915\"></a>\n",
    "### Jerarquía de clases"
   ]
  },
  {
   "cell_type": "markdown",
   "metadata": {},
   "source": [
    "En Python, las instancias heredan sus métodos y atributos de las clases, y las clases heredan de las superclases. A continuación se presentan algunos puntos clave relacionados con el mecanismo de herencia y la jerarquía de clases:\n",
    "\n",
    "* Las superclases aparecen escritas dentro de los parentesis de las clases derivadas.\n",
    "* Las clases derivadas heredan atributos y métodos de las Superclases.\n",
    "* Las instancias heredan métodos y atributos de todas las clases accesibles."
   ]
  },
  {
   "cell_type": "markdown",
   "metadata": {},
   "source": [
    "### Simple"
   ]
  },
  {
   "cell_type": "code",
   "execution_count": null,
   "metadata": {},
   "outputs": [],
   "source": [
    "# En este ejemplo, B y C heredan de A\n",
    "class A:\n",
    "    pass\n",
    "class B(A):\n",
    "    pass\n",
    "class C(A):\n",
    "    pass"
   ]
  },
  {
   "cell_type": "code",
   "execution_count": null,
   "metadata": {},
   "outputs": [],
   "source": [
    "issubclass(B,A) and issubclass(C,A)"
   ]
  },
  {
   "cell_type": "markdown",
   "metadata": {},
   "source": [
    "### Multinivel"
   ]
  },
  {
   "cell_type": "code",
   "execution_count": null,
   "metadata": {},
   "outputs": [],
   "source": [
    "# En este ejemplo, C hereda de B, y B hereda de A:\n",
    "class A:\n",
    "    x=1         \n",
    "class B(A):\n",
    "    pass\n",
    "class C(B):\n",
    "    pass"
   ]
  },
  {
   "cell_type": "code",
   "execution_count": null,
   "metadata": {},
   "outputs": [],
   "source": [
    "cobj=C()\n",
    "cobj.x"
   ]
  },
  {
   "cell_type": "markdown",
   "metadata": {},
   "source": [
    "### Hibrida"
   ]
  },
  {
   "cell_type": "code",
   "execution_count": null,
   "metadata": {},
   "outputs": [],
   "source": [
    "# Combinación de la simple y la Multinivel:\n",
    "class A:\n",
    "    x=1       \n",
    "class B(A):\n",
    "    pass\n",
    "class C(A):\n",
    "    pass\n",
    "class D(B,C):\n",
    "    pass"
   ]
  },
  {
   "cell_type": "code",
   "execution_count": null,
   "metadata": {},
   "outputs": [],
   "source": [
    "dobj=D()\n",
    "dobj.x"
   ]
  },
  {
   "cell_type": "markdown",
   "metadata": {},
   "source": [
    "Al tener una jerarquía de clases, es posible que los métodos o los atributos de las subclases no respondan adecuadamente si no hacemos la herencia de manera correcta. Es por ello que es importante entender el orden de resolución de las subclases."
   ]
  },
  {
   "cell_type": "markdown",
   "metadata": {},
   "source": [
    "### El método mro (Method Resolution Order)"
   ]
  },
  {
   "cell_type": "markdown",
   "metadata": {},
   "source": [
    "Cuando se reviso el tema de herencia múltiple, se explico que al momento de llamar 2 métodos con el mismo nombre, solamente el método de la primera superclase permanecería activo en las subclases. Una forma de ver esto es mediante el uso del método ** _ __mro__ _\n",
    "Para entender esto mejor, vamos a crear un grupo de clases y subclases, en donde **Base1** y **Base3** serán las superclases:"
   ]
  },
  {
   "cell_type": "code",
   "execution_count": null,
   "metadata": {},
   "outputs": [],
   "source": [
    "class Base1:  \n",
    "    def metodo(self): \n",
    "        print (\"Base1\")\n",
    "\n",
    "class Base2(Base1):  \n",
    "    pass\n",
    "\n",
    "class Base3:  \n",
    "    def metodo(self): \n",
    "        print (\"Base3\")\n",
    "\n",
    "class Derivada(Base2,Base3):  \n",
    "    pass"
   ]
  },
  {
   "cell_type": "markdown",
   "metadata": {},
   "source": [
    "Al crear una instancia de la subclase **Derivada**, podemos hacer uso de los métodos de las superclases. Sin embarjo, solo el método de la **Base1**, **metodo** es el que se mantiene."
   ]
  },
  {
   "cell_type": "code",
   "execution_count": null,
   "metadata": {},
   "outputs": [],
   "source": [
    "ejemplo = Derivada()  \n",
    "ejemplo.metodo() "
   ]
  },
  {
   "cell_type": "markdown",
   "metadata": {},
   "source": [
    "Si llamamos al método **mro**, nos indicará el orden en el que la clase buscará resolver el problema:"
   ]
  },
  {
   "cell_type": "code",
   "execution_count": null,
   "metadata": {},
   "outputs": [],
   "source": [
    "print (Derivada.__mro__)"
   ]
  },
  {
   "cell_type": "markdown",
   "metadata": {},
   "source": [
    "En el ejemplo anterior, primero buscará los métodos en **Derivada**, posteriormente **Base2, Base1** y al final **Base3**. Como el programa obtiene su respuesta en **Base1**, Base3 ya no se ejecuta."
   ]
  },
  {
   "cell_type": "code",
   "execution_count": null,
   "metadata": {},
   "outputs": [],
   "source": [
    "# Es posible llamar al mro por medio de esta otra sintaxis:\n",
    "print (Derivada.mro())"
   ]
  },
  {
   "cell_type": "markdown",
   "metadata": {},
   "source": [
    "Si ejecutamos el método **mro** en superclases, solamente nos indicará que las acciones se efectuarán dentro de si misma:"
   ]
  },
  {
   "cell_type": "code",
   "execution_count": null,
   "metadata": {},
   "outputs": [],
   "source": [
    "print (Base1.__mro__)"
   ]
  },
  {
   "cell_type": "markdown",
   "metadata": {},
   "source": [
    "En el siguiente ejemplo, se crearán 3 superclases, y 3 subclases, ¿Puedes definir el orden de resolución?"
   ]
  },
  {
   "cell_type": "code",
   "execution_count": null,
   "metadata": {},
   "outputs": [],
   "source": [
    "class X:\n",
    "    pass\n",
    "class Y:\n",
    "    pass\n",
    "class Z:\n",
    "    pass\n",
    "class A(X,Y):\n",
    "    pass\n",
    "class B(Y,Z):\n",
    "    pass\n",
    "class M(B,A,Z):\n",
    "    pass"
   ]
  },
  {
   "cell_type": "markdown",
   "metadata": {},
   "source": [
    "### <img src=\"img/mro.png\" alt=\"Python\" width=600 hight=400 align=\"center\">"
   ]
  },
  {
   "cell_type": "code",
   "execution_count": null,
   "metadata": {},
   "outputs": [],
   "source": [
    "M.mro()"
   ]
  },
  {
   "cell_type": "markdown",
   "metadata": {},
   "source": [
    "### Actividad\n",
    "Considere las siguientes clases:"
   ]
  },
  {
   "cell_type": "code",
   "execution_count": null,
   "metadata": {},
   "outputs": [],
   "source": [
    "class W:\n",
    "    texto=\"W\"\n",
    "class X:\n",
    "    texto=\"X\"\n",
    "class Y:\n",
    "    texto=\"Y\"\n",
    "class Z:\n",
    "    texto=\"Z\"\n",
    "class A(W,Y):\n",
    "    pass\n",
    "class B(X,Z):\n",
    "    pass\n",
    "class C(Y,W):\n",
    "    pass\n",
    "class D(Z,X):\n",
    "    pass\n",
    "class E(X,W):\n",
    "    pass\n",
    "class F(Z,Y):\n",
    "    pass"
   ]
  },
  {
   "cell_type": "markdown",
   "metadata": {},
   "source": [
    "Determine el orden de solución de las siguientes clases y su impresión final:"
   ]
  },
  {
   "cell_type": "code",
   "execution_count": null,
   "metadata": {},
   "outputs": [],
   "source": [
    "class Uno(A,B):\n",
    "    pass\n",
    "class Dos(F, E):\n",
    "    pass\n",
    "class Tres(D, C):\n",
    "    pass"
   ]
  },
  {
   "cell_type": "code",
   "execution_count": null,
   "metadata": {},
   "outputs": [],
   "source": [
    "prueba1=Uno()"
   ]
  },
  {
   "cell_type": "code",
   "execution_count": null,
   "metadata": {},
   "outputs": [],
   "source": [
    "prueba1.texto"
   ]
  },
  {
   "cell_type": "markdown",
   "metadata": {},
   "source": [
    "### base vs bases"
   ]
  },
  {
   "cell_type": "markdown",
   "metadata": {},
   "source": [
    "El método _ __**bases**__ _ nos sirve para determinar la herencia multiple directa que recibe una clase derivada:"
   ]
  },
  {
   "cell_type": "code",
   "execution_count": null,
   "metadata": {},
   "outputs": [],
   "source": [
    "Uno.__bases__"
   ]
  },
  {
   "cell_type": "code",
   "execution_count": null,
   "metadata": {},
   "outputs": [],
   "source": [
    "A.__bases__"
   ]
  },
  {
   "cell_type": "markdown",
   "metadata": {},
   "source": [
    "El método _ __**base**__ _ nos sirve para determinar la primera Superclase de la que hereda la clase actual:"
   ]
  },
  {
   "cell_type": "code",
   "execution_count": null,
   "metadata": {},
   "outputs": [],
   "source": [
    "A.__base__"
   ]
  },
  {
   "cell_type": "markdown",
   "metadata": {
    "colab_type": "text",
    "id": "dWYC2ekGKJLb"
   },
   "source": [
    "<a id=\"section91\"></a> \n",
    "# <font color=\"#004D7F\"> 3.11 Polimorfismo</font>"
   ]
  },
  {
   "cell_type": "markdown",
   "metadata": {
    "colab_type": "text",
    "id": "IrF2CwOYKJLb"
   },
   "source": [
    "<a id=\"section921\"></a>\n",
    "### Métodos sobreescritos"
   ]
  },
  {
   "cell_type": "markdown",
   "metadata": {},
   "source": [
    "Los métodos sobreescritos, también conocidos como Overriding Methods, permite sustituir un método proveniente de la Clase Superior, en la Clase Derivada. Para ello, se debe definir un método con la misma forma (es decir, mismo nombre de método y mismo número de parámetros que como está definido en la Clase Superior)."
   ]
  },
  {
   "cell_type": "code",
   "execution_count": 1,
   "metadata": {},
   "outputs": [],
   "source": [
    "class Persona:\n",
    "    def __init__(self):\n",
    "        self.cedula = 13765890\n",
    "        def mensaje(self):\n",
    "            print(\"mensaje desde la clase Persona\")\n",
    "            \n",
    "class Obrero(Persona):\n",
    "    def __init__(self):\n",
    "        self.__especialista = 1\n",
    "    def mensaje(self):\n",
    "        print(\"mensaje desde la clase Obrero\")"
   ]
  },
  {
   "cell_type": "code",
   "execution_count": 2,
   "metadata": {},
   "outputs": [],
   "source": [
    "ejemplo_obrero=Obrero()"
   ]
  },
  {
   "cell_type": "code",
   "execution_count": 3,
   "metadata": {},
   "outputs": [
    {
     "data": {
      "text/plain": [
       "{'_Obrero__especialista': 1}"
      ]
     },
     "execution_count": 3,
     "metadata": {},
     "output_type": "execute_result"
    }
   ],
   "source": [
    "vars(ejemplo_obrero)"
   ]
  },
  {
   "cell_type": "code",
   "execution_count": 5,
   "metadata": {},
   "outputs": [],
   "source": [
    "#ejemplo_obrero.cedula"
   ]
  },
  {
   "cell_type": "code",
   "execution_count": 6,
   "metadata": {},
   "outputs": [
    {
     "name": "stdout",
     "output_type": "stream",
     "text": [
      "mensaje desde la clase Obrero\n"
     ]
    }
   ],
   "source": [
    "ejemplo_obrero.mensaje()"
   ]
  },
  {
   "cell_type": "markdown",
   "metadata": {},
   "source": [
    "En el ejemplo anterior, tanto el constructor, como el método mensaje sobreescribieron los métodos de la clase superior, quedando únicamente las acciones de la clase derivada."
   ]
  },
  {
   "cell_type": "markdown",
   "metadata": {},
   "source": [
    "<a id=\"section922\"></a>\n",
    "### Sobrecarga de Operadores"
   ]
  },
  {
   "cell_type": "markdown",
   "metadata": {},
   "source": [
    "Este proceso se conoce en ingles como Overloading. En Python la sobrecarga de operadores que existe en otros lenguajes de programación, no existe como tal aquí. Si se definen dos métodos de características similares, pero con argumentos distintos, solamente el último método definido se mantendría. "
   ]
  },
  {
   "cell_type": "code",
   "execution_count": 8,
   "metadata": {},
   "outputs": [],
   "source": [
    "# Primer método:\n",
    "# Toma 2 argumentos para multiplicarlos\n",
    "\n",
    "def product(a, b): \n",
    "    p = a * b \n",
    "    print(p) \n",
    "      \n",
    "# Segundo método: \n",
    "# Toma 3 argumentos y los multiplica: \n",
    "\n",
    "def product(a, b, c): \n",
    "    p = a * b * c \n",
    "    print(p) "
   ]
  },
  {
   "cell_type": "code",
   "execution_count": 10,
   "metadata": {},
   "outputs": [],
   "source": [
    "# El siguiente método causará un error:\n",
    "#product(4,5)"
   ]
  },
  {
   "cell_type": "code",
   "execution_count": 11,
   "metadata": {},
   "outputs": [
    {
     "name": "stdout",
     "output_type": "stream",
     "text": [
      "120\n"
     ]
    }
   ],
   "source": [
    "product(4,5,6)"
   ]
  },
  {
   "cell_type": "markdown",
   "metadata": {},
   "source": [
    "Una forma de poder manejar esto es mediante el uso de funciones de argumentos múltiples:"
   ]
  },
  {
   "cell_type": "code",
   "execution_count": 12,
   "metadata": {},
   "outputs": [],
   "source": [
    "# Función que toma argumentos múltiples\n",
    "def agregar(datatype, *args): \n",
    "\n",
    "# Generamos 2 situaciones para el tipo de dato recibido:\n",
    "    if datatype ==\"int\": \n",
    "        concat = 0\n",
    "         \n",
    "    elif datatype ==\"str\": \n",
    "        concat =\"\" \n",
    "\n",
    "# Cuerpo de la función:\n",
    "    for x in args: \n",
    "        concat = concat + x \n",
    "  \n",
    "    print(concat) "
   ]
  },
  {
   "cell_type": "markdown",
   "metadata": {},
   "source": [
    "### * args \n",
    "\n",
    "La sintaxis especial `* args` en las definiciones de funciones en Python se usa para pasar un número variable de argumentos a una función. Se utiliza para pasar una lista de argumentos de longitud variable sin palabras clave.\n",
    "\n",
    "* La sintaxis es usar el símbolo * para tomar un número variable de argumentos; por convención, se usa a menudo con la palabra args.\n",
    "* Lo que * args le permite hacer es aceptar más argumentos que el número de argumentos formales que definió anteriormente. * Con * args, se puede agregar cualquier número de argumentos adicionales a sus parámetros formales actuales (incluidos cero argumentos adicionales).\n",
    "* Por ejemplo: queremos hacer una función de multiplicación que tome cualquier número de argumentos y sea capaz de multiplicarlos todos juntos. Se puede hacer usando * args.\n",
    "* Al usar *, la variable que asociamos con * se convierte en un iterable, lo que significa que puede hacer cosas como iterar sobre ella, ejecutar algunas funciones de orden superior como mapa y filtro, etc."
   ]
  },
  {
   "cell_type": "code",
   "execution_count": 13,
   "metadata": {},
   "outputs": [
    {
     "name": "stdout",
     "output_type": "stream",
     "text": [
      "22\n"
     ]
    }
   ],
   "source": [
    "agregar(\"int\", 6,4,5,7)"
   ]
  },
  {
   "cell_type": "code",
   "execution_count": 14,
   "metadata": {},
   "outputs": [
    {
     "name": "stdout",
     "output_type": "stream",
     "text": [
      "Hola Mundo!\n"
     ]
    }
   ],
   "source": [
    "agregar(\"str\", \"Hola\", \" \", \"Mundo\", \"!\")"
   ]
  },
  {
   "cell_type": "markdown",
   "metadata": {},
   "source": [
    "Otra forma de trabajar la sobrecarga, es pre-inicializar las variables en el constructur, haciendolas opcionales al momento de instanciar. Posteriormente, se podra sustituir los operadores de un objeto instanciado, eliminando los de la clase base:"
   ]
  },
  {
   "cell_type": "code",
   "execution_count": 15,
   "metadata": {},
   "outputs": [],
   "source": [
    "class Persona:\n",
    "    def __init__(self, nombre=None):\n",
    "        self.nombre=nombre\n",
    "        if nombre==None:\n",
    "            print(\"Hola extraño\")\n",
    "        else:\n",
    "            print(\"Hola\",self.nombre)"
   ]
  },
  {
   "cell_type": "code",
   "execution_count": 16,
   "metadata": {},
   "outputs": [
    {
     "name": "stdout",
     "output_type": "stream",
     "text": [
      "Hola extraño\n"
     ]
    }
   ],
   "source": [
    "Max=Persona()"
   ]
  },
  {
   "cell_type": "code",
   "execution_count": 17,
   "metadata": {},
   "outputs": [
    {
     "name": "stdout",
     "output_type": "stream",
     "text": [
      "Hola Edgar\n"
     ]
    }
   ],
   "source": [
    "Edgar=Persona(nombre=\"Edgar\")"
   ]
  },
  {
   "cell_type": "code",
   "execution_count": 18,
   "metadata": {},
   "outputs": [],
   "source": [
    "class Punto:\n",
    "    def __init__(self,x = 0,y = 0):\n",
    "        self.x = x\n",
    "        self.y = y\n",
    "    def __add__(self,other):\n",
    "        x = self.x + other.x\n",
    "        y = self.y + other.y\n",
    "        return x, y"
   ]
  },
  {
   "cell_type": "code",
   "execution_count": 19,
   "metadata": {},
   "outputs": [],
   "source": [
    "punto=Punto()"
   ]
  },
  {
   "cell_type": "code",
   "execution_count": 20,
   "metadata": {},
   "outputs": [
    {
     "data": {
      "text/plain": [
       "{'x': 0, 'y': 0}"
      ]
     },
     "execution_count": 20,
     "metadata": {},
     "output_type": "execute_result"
    }
   ],
   "source": [
    "vars(punto)"
   ]
  },
  {
   "cell_type": "code",
   "execution_count": 21,
   "metadata": {},
   "outputs": [],
   "source": [
    "punto1 = Punto(4,6)\n",
    "punto2 = Punto(1,-2)"
   ]
  },
  {
   "cell_type": "code",
   "execution_count": 22,
   "metadata": {},
   "outputs": [
    {
     "data": {
      "text/plain": [
       "{'x': 4, 'y': 6}"
      ]
     },
     "execution_count": 22,
     "metadata": {},
     "output_type": "execute_result"
    }
   ],
   "source": [
    "vars(punto1)"
   ]
  },
  {
   "cell_type": "code",
   "execution_count": 23,
   "metadata": {},
   "outputs": [
    {
     "name": "stdout",
     "output_type": "stream",
     "text": [
      "(5, 4)\n"
     ]
    }
   ],
   "source": [
    "print (punto1 + punto2)"
   ]
  },
  {
   "cell_type": "markdown",
   "metadata": {
    "colab_type": "text",
    "id": "zjNFd7rLKJLc"
   },
   "source": [
    "<a id=\"section922a\"></a>\n",
    "### Métodos y clases abstractas"
   ]
  },
  {
   "cell_type": "markdown",
   "metadata": {},
   "source": [
    "Una clase abstracta, es aquella super clase, de la cuál no se pueden generar objetos (Esto ocurre en la mayoria de los lenguajes de programación). Sirve para crear una interfaz (conexiones) para clases derivadas. Unifica métodos y atributos de dichas clases derivadas. Para entender esto mejor analicemos el siguiente ejemplo:"
   ]
  },
  {
   "cell_type": "code",
   "execution_count": 24,
   "metadata": {},
   "outputs": [],
   "source": [
    "# Creamos una clase normal, con 2 métodos aleatorios:\n",
    "class Animal(object):\n",
    "    \n",
    "    # Primer método\n",
    "    def setName(self, name):\n",
    "        self.name = name\n",
    "    \n",
    "    # Segundo método\n",
    "    def getName(self):\n",
    "        return self.name"
   ]
  },
  {
   "cell_type": "markdown",
   "metadata": {},
   "source": [
    "Esta es una clase con la que podemos interactuar libremente al realizar instancias:"
   ]
  },
  {
   "cell_type": "code",
   "execution_count": 25,
   "metadata": {},
   "outputs": [
    {
     "name": "stdout",
     "output_type": "stream",
     "text": [
      "Fido\n"
     ]
    }
   ],
   "source": [
    "fido = Animal() # Instancia de nuestra clase\n",
    "fido.setName(\"Fido\") # Asignación de nombre\n",
    "print(fido.getName())"
   ]
  },
  {
   "cell_type": "markdown",
   "metadata": {},
   "source": [
    "Para poder crear una **clase abstracta**, es necesario importar la libreria **abc** (Abstract Base Classes), junto con la clase **ABC**:"
   ]
  },
  {
   "cell_type": "code",
   "execution_count": 27,
   "metadata": {},
   "outputs": [],
   "source": [
    "import abc\n",
    "from abc import ABC"
   ]
  },
  {
   "cell_type": "markdown",
   "metadata": {},
   "source": [
    "Procedemos a crear la clase abstracta:"
   ]
  },
  {
   "cell_type": "code",
   "execution_count": 28,
   "metadata": {},
   "outputs": [],
   "source": [
    "# Clase abstracta que hereda de la clase ABC\n",
    "class Animal(ABC):\n",
    "    \n",
    "    # Primer método\n",
    "    # Decorador para métodos absctractos (Obligatorio)\n",
    "    @abc.abstractmethod \n",
    "    def setName(self, name):\n",
    "        self.name = name\n",
    "    \n",
    "    # Segundo método\n",
    "    # Decorador para métodos absctractos (Obligatorio)\n",
    "    @abc.abstractmethod\n",
    "    def getName(self):\n",
    "        return self.name"
   ]
  },
  {
   "cell_type": "markdown",
   "metadata": {},
   "source": [
    "En esta ocasión, al tratar de crear una instancia (objeto) de la clase Animal nos mandaría un error:"
   ]
  },
  {
   "cell_type": "code",
   "execution_count": 30,
   "metadata": {},
   "outputs": [],
   "source": [
    "#fido = Animal()"
   ]
  },
  {
   "cell_type": "markdown",
   "metadata": {},
   "source": [
    "<a id=\"section923\"></a>\n",
    "### ¿Cuál es la utilidad de las clases abstractas?"
   ]
  },
  {
   "cell_type": "markdown",
   "metadata": {},
   "source": [
    "Las clases abstractas nos sirven para agrupar los métodos y atributos comúnes a un grupo de clases. Sin embargo solamente los agrupan en su forma mas simple, para que al momento de heredarlo a sus clases derivadas, estas puedan sobreescribirlos (Overriden) y entonces adaptarlos a sus necesidades."
   ]
  },
  {
   "cell_type": "code",
   "execution_count": 31,
   "metadata": {},
   "outputs": [],
   "source": [
    "class Animal(ABC):\n",
    "    \n",
    "    @abc.abstractmethod \n",
    "    def setName(self, name):\n",
    "        pass\n",
    "    \n",
    "    @abc.abstractmethod\n",
    "    def getName(self):\n",
    "        pass"
   ]
  },
  {
   "cell_type": "code",
   "execution_count": 33,
   "metadata": {},
   "outputs": [],
   "source": [
    "class Perro(Animal):\n",
    "    \n",
    "    def __init__(self):\n",
    "        pass  \n",
    "\n",
    "    def setName(self, name):\n",
    "        self.name = name\n",
    "        \n",
    "    def getName(self):\n",
    "        return self.name"
   ]
  },
  {
   "cell_type": "code",
   "execution_count": 34,
   "metadata": {},
   "outputs": [
    {
     "data": {
      "text/plain": [
       "'Firulais'"
      ]
     },
     "execution_count": 34,
     "metadata": {},
     "output_type": "execute_result"
    }
   ],
   "source": [
    "perro = Perro()\n",
    "perro.setName(\"Firulais\")\n",
    "perro.getName()"
   ]
  },
  {
   "cell_type": "markdown",
   "metadata": {},
   "source": [
    "En Python, las clases abstractas pueden ser instanciadas. Sin embargo, al igual que con el encapsulamiento, se apela al buen juicio del programador para no realizar dicha actividad:"
   ]
  },
  {
   "cell_type": "code",
   "execution_count": 35,
   "metadata": {},
   "outputs": [
    {
     "data": {
      "text/plain": [
       "True"
      ]
     },
     "execution_count": 35,
     "metadata": {},
     "output_type": "execute_result"
    }
   ],
   "source": [
    "issubclass(Animal,ABC)"
   ]
  },
  {
   "cell_type": "code",
   "execution_count": 36,
   "metadata": {},
   "outputs": [
    {
     "data": {
      "text/plain": [
       "[__main__.Perro, __main__.Animal, abc.ABC, object]"
      ]
     },
     "execution_count": 36,
     "metadata": {},
     "output_type": "execute_result"
    }
   ],
   "source": [
    "Perro.mro()"
   ]
  },
  {
   "cell_type": "markdown",
   "metadata": {},
   "source": [
    "<a id=\"section924\"></a>\n",
    "### Métodos sobreescritos"
   ]
  },
  {
   "cell_type": "markdown",
   "metadata": {},
   "source": [
    "En Python un ejemplo de las clases abstractas es la forma **type**. Cuando se llama a **type** con un solo argumento, produce la información de tipo del objeto. Sin embargo al llamarlo utilizando nuevas clases, o ciertas palabras reservadas genera como resultado \"type\":"
   ]
  },
  {
   "cell_type": "code",
   "execution_count": 37,
   "metadata": {},
   "outputs": [],
   "source": [
    "a=(1,2)                  # Tupla\n",
    "b=[1,2,3]                # Lista\n",
    "c=\"Hola\"                 # Cadena de texto (string)\n",
    "d={\"Llave\":\"Contenido\"}  # Diccionario\n",
    "class e: pass            # Clase nueva\n",
    "f=e()                    # Objeto instanciado\n",
    "g=4                      # Entero\n",
    "h=3.14                   # Flotante\n",
    "i=int                    # Built - in something\n",
    "j=sum                    # Built - in method para sumar"
   ]
  },
  {
   "cell_type": "code",
   "execution_count": 38,
   "metadata": {},
   "outputs": [
    {
     "name": "stdout",
     "output_type": "stream",
     "text": [
      "<class 'tuple'>\n",
      "<class 'list'>\n",
      "<class 'str'>\n",
      "<class 'dict'>\n",
      "<class 'type'>\n",
      "<class '__main__.e'>\n",
      "<class 'int'>\n",
      "<class 'float'>\n",
      "<class 'type'>\n",
      "<class 'builtin_function_or_method'>\n"
     ]
    }
   ],
   "source": [
    "objetos=[a,b,c,d,e,f,g,h,i,j]\n",
    "\n",
    "for i in objetos:\n",
    "    print(type(i))"
   ]
  },
  {
   "cell_type": "markdown",
   "metadata": {},
   "source": [
    "En el ejemplo anterior, tanto la clase e, como el método int generan como resultado type. Esto es porque son tipos de algo: Tipo de objeto, o Tipo de número. Type a su vez tambien es un tipo, Tipo de tipos:"
   ]
  },
  {
   "cell_type": "code",
   "execution_count": 39,
   "metadata": {},
   "outputs": [
    {
     "data": {
      "text/plain": [
       "True"
      ]
     },
     "execution_count": 39,
     "metadata": {},
     "output_type": "execute_result"
    }
   ],
   "source": [
    "# Lo siguiente es verdadero, ya que int genera números enteros\n",
    "isinstance(g,int)"
   ]
  },
  {
   "cell_type": "code",
   "execution_count": 40,
   "metadata": {},
   "outputs": [
    {
     "data": {
      "text/plain": [
       "True"
      ]
     },
     "execution_count": 40,
     "metadata": {},
     "output_type": "execute_result"
    }
   ],
   "source": [
    "isinstance(a,tuple)"
   ]
  },
  {
   "cell_type": "code",
   "execution_count": 41,
   "metadata": {},
   "outputs": [
    {
     "data": {
      "text/plain": [
       "True"
      ]
     },
     "execution_count": 41,
     "metadata": {},
     "output_type": "execute_result"
    }
   ],
   "source": [
    "isinstance(h,float)"
   ]
  },
  {
   "cell_type": "code",
   "execution_count": 42,
   "metadata": {},
   "outputs": [
    {
     "data": {
      "text/plain": [
       "type"
      ]
     },
     "execution_count": 42,
     "metadata": {},
     "output_type": "execute_result"
    }
   ],
   "source": [
    "type(type)"
   ]
  },
  {
   "cell_type": "markdown",
   "metadata": {},
   "source": [
    "La razón para esto es porque type es una Metaclase. Una clase diseñada para crear clases, y solo cuando se le pasa 1 argumento como dato, entonces genera el typo del dato introducido.\n",
    "Para poder usar type como generador de clases (Usarlo como Metaclase), es necesario llamar a type con tres argumentos: Nombre de la clase, Clases base, y conjunto de argumentos:"
   ]
  },
  {
   "cell_type": "code",
   "execution_count": 43,
   "metadata": {},
   "outputs": [],
   "source": [
    "# Creamos una Super Clase de la forma aprendida hasta ahora:\n",
    "class Clase_1:\n",
    "    pass"
   ]
  },
  {
   "cell_type": "code",
   "execution_count": 44,
   "metadata": {},
   "outputs": [],
   "source": [
    "# Creamos una instancia por medio de type para generar la misma Super Clase:\n",
    "Clase_1 = type(\"Clase_1\",(),{})"
   ]
  },
  {
   "cell_type": "markdown",
   "metadata": {},
   "source": [
    "-----------------------------------------------------------------------------------------------------------------------\n",
    "\n",
    "                  class Clase_1: pass       \"es lo mismo que\"      Clase_1 = type(\"Clase_1\",(),{})\n",
    "\n",
    "-----------------------------------------------------------------------------------------------------------------------"
   ]
  },
  {
   "cell_type": "markdown",
   "metadata": {},
   "source": [
    "El primer argumento de la clase **type** corresponde al nombre de la clase. El diccionario (vacio) corresponde a los métodos y atributos de la nueva clase, mientras que la tupla (vacia) corresponde a las Super Clases de las que va a heredar la nueva sub clase."
   ]
  },
  {
   "cell_type": "code",
   "execution_count": 45,
   "metadata": {},
   "outputs": [],
   "source": [
    "Clase_2 = type(\"Clase_2\",(),{'a':True})"
   ]
  },
  {
   "cell_type": "code",
   "execution_count": 46,
   "metadata": {},
   "outputs": [
    {
     "data": {
      "text/plain": [
       "mappingproxy({'a': True,\n",
       "              '__module__': '__main__',\n",
       "              '__dict__': <attribute '__dict__' of 'Clase_2' objects>,\n",
       "              '__weakref__': <attribute '__weakref__' of 'Clase_2' objects>,\n",
       "              '__doc__': None})"
      ]
     },
     "execution_count": 46,
     "metadata": {},
     "output_type": "execute_result"
    }
   ],
   "source": [
    "vars(Clase_2)"
   ]
  },
  {
   "cell_type": "code",
   "execution_count": 47,
   "metadata": {},
   "outputs": [],
   "source": [
    "def saludo(self):\n",
    "    print(\"Hola\")\n",
    "\n",
    "\n",
    "Clase_3 = type(\"Clase_3\",(),{'saludo':saludo, \"atributo\": 1})"
   ]
  },
  {
   "cell_type": "code",
   "execution_count": 48,
   "metadata": {},
   "outputs": [
    {
     "data": {
      "text/plain": [
       "mappingproxy({'saludo': <function __main__.saludo(self)>,\n",
       "              'atributo': 1,\n",
       "              '__module__': '__main__',\n",
       "              '__dict__': <attribute '__dict__' of 'Clase_3' objects>,\n",
       "              '__weakref__': <attribute '__weakref__' of 'Clase_3' objects>,\n",
       "              '__doc__': None})"
      ]
     },
     "execution_count": 48,
     "metadata": {},
     "output_type": "execute_result"
    }
   ],
   "source": [
    "vars(Clase_3)"
   ]
  },
  {
   "cell_type": "code",
   "execution_count": 49,
   "metadata": {},
   "outputs": [],
   "source": [
    "Clase_4=type(\"Clase_4\",(Clase_1, Clase_2, Clase_3), {})"
   ]
  },
  {
   "cell_type": "code",
   "execution_count": 50,
   "metadata": {
    "scrolled": true
   },
   "outputs": [
    {
     "data": {
      "text/plain": [
       "True"
      ]
     },
     "execution_count": 50,
     "metadata": {},
     "output_type": "execute_result"
    }
   ],
   "source": [
    "isinstance(Clase_4,type)"
   ]
  },
  {
   "cell_type": "code",
   "execution_count": 51,
   "metadata": {},
   "outputs": [
    {
     "name": "stdout",
     "output_type": "stream",
     "text": [
      "['__class__', '__delattr__', '__dict__', '__dir__', '__doc__', '__eq__', '__format__', '__ge__', '__getattribute__', '__gt__', '__hash__', '__init__', '__init_subclass__', '__le__', '__lt__', '__module__', '__ne__', '__new__', '__reduce__', '__reduce_ex__', '__repr__', '__setattr__', '__sizeof__', '__str__', '__subclasshook__', '__weakref__', 'a', 'atributo', 'saludo']\n"
     ]
    }
   ],
   "source": [
    "print(dir(Clase_4))"
   ]
  },
  {
   "cell_type": "markdown",
   "metadata": {},
   "source": [
    "Aquellas clases abstractas, que yacen de manera previa en Python, se le conoce tambien como **Metaclases**. **type** es un ejemplo claro de una Metaclase. Las instancias que se obtengan de **type** serán clases."
   ]
  },
  {
   "cell_type": "code",
   "execution_count": null,
   "metadata": {},
   "outputs": [],
   "source": [
    "issubclass(Clase_4,Clase_1)"
   ]
  },
  {
   "cell_type": "code",
   "execution_count": null,
   "metadata": {
    "scrolled": true
   },
   "outputs": [],
   "source": [
    "issubclass(Clase_1,type)"
   ]
  },
  {
   "cell_type": "code",
   "execution_count": null,
   "metadata": {},
   "outputs": [],
   "source": [
    "isinstance(Clase_1,type)"
   ]
  },
  {
   "cell_type": "markdown",
   "metadata": {},
   "source": [
    "Al ser **type** una **Metaclase**, es posible crear más Metaclases a partir de esta opción:"
   ]
  },
  {
   "cell_type": "code",
   "execution_count": 52,
   "metadata": {},
   "outputs": [],
   "source": [
    "objeto=Clase_1()"
   ]
  },
  {
   "cell_type": "code",
   "execution_count": 53,
   "metadata": {},
   "outputs": [],
   "source": [
    "# Creamos una Metaclase que funcione como type:\n",
    "class Meta(type):\n",
    "    pass"
   ]
  },
  {
   "cell_type": "code",
   "execution_count": null,
   "metadata": {},
   "outputs": [],
   "source": [
    "#objeto=Meta()"
   ]
  },
  {
   "cell_type": "markdown",
   "metadata": {
    "colab_type": "text",
    "id": "SLiGOFitKJLc"
   },
   "source": [
    "<a id=\"section93\"></a> \n",
    "# <font color=\"#004D7F\"> 3.12 Interfaces</font>"
   ]
  },
  {
   "cell_type": "markdown",
   "metadata": {},
   "source": [
    "Una interface define las reglas a partir de las cuales un método puede comunicarse (conexiones) con los métodos de otros objetos. En otros lenguajes de programación este tipo de conexiones se verifican por medio de alguna palabra reservada (interface en Java o C#). En Python, la situación es mas sencilla, simplemente se hace la solicitud al objeto, y en caso de no contener el método, generar un manejo de excepciones. Por lo tanto, la estructura **try...except**, o el método **hasattr()** son la manera segura de trabajar.\n",
    "\n",
    "Las interfaces en verdad no son necesarias en Python. Esto se debe a que Python tiene una herencia múltiple adecuada, y también ducktyping, lo que significa que los lugares donde usted debe tener interfaces en Java, no tiene que tenerlos en Python. Dicho esto, todavía hay varios usos para las interfaces."
   ]
  },
  {
   "cell_type": "code",
   "execution_count": 54,
   "metadata": {},
   "outputs": [],
   "source": [
    "class Equipo:\n",
    "    def __init__(self, miembros):\n",
    "        self.__miembros = miembros"
   ]
  },
  {
   "cell_type": "code",
   "execution_count": 55,
   "metadata": {},
   "outputs": [],
   "source": [
    "LFC=Equipo([\"Salah\", \"Firmino\", \"Allison\", \"Van Dijk\", \"Mane\", \"Milner\"])"
   ]
  },
  {
   "cell_type": "code",
   "execution_count": 56,
   "metadata": {},
   "outputs": [
    {
     "name": "stdout",
     "output_type": "stream",
     "text": [
      "['_Equipo__miembros', '__class__', '__delattr__', '__dict__', '__dir__', '__doc__', '__eq__', '__format__', '__ge__', '__getattribute__', '__gt__', '__hash__', '__init__', '__init_subclass__', '__le__', '__lt__', '__module__', '__ne__', '__new__', '__reduce__', '__reduce_ex__', '__repr__', '__setattr__', '__sizeof__', '__str__', '__subclasshook__', '__weakref__']\n"
     ]
    }
   ],
   "source": [
    "print(dir(LFC))"
   ]
  },
  {
   "cell_type": "code",
   "execution_count": 58,
   "metadata": {},
   "outputs": [],
   "source": [
    "#len(LFC)"
   ]
  },
  {
   "cell_type": "markdown",
   "metadata": {},
   "source": [
    "La idea de interface es realmente simple: es la descripción de cómo se comporta un objeto. Una interface nos dice qué puede hacer un objeto para desempeñar su función en un sistema. En la programación orientada a objetos, una interface es un conjunto de métodos de acceso público en un objeto que pueden ser utilizados por otras partes del programa para interactuar con ese objeto. Las interfaces establecen límites claros y nos ayudan a organizar mejor nuestro código. En algunos lenguajes como Java, las interfaces son parte de la sintaxis del lenguaje y se aplican estrictamente. Sin embargo, en Python, las cosas son un poco diferentes. \n",
    "\n",
    "Como se puede ver en el ejemplo anterior, el objeto no contiene el metodo len. Sin embargo es posible implementar dicho método mediante el uso de **protocolos**, las cuales son conocidas cono interfaces informales. "
   ]
  },
  {
   "cell_type": "code",
   "execution_count": 59,
   "metadata": {},
   "outputs": [],
   "source": [
    "class Equipo:\n",
    "    def __init__(self, miembros):\n",
    "        self.__miembros = miembros\n",
    "\n",
    "    def __len__(self):\n",
    "        return len(self.__miembros)"
   ]
  },
  {
   "cell_type": "code",
   "execution_count": 60,
   "metadata": {},
   "outputs": [],
   "source": [
    "SSBU=Equipo([\"Mario\", \"Luigi\", \"Pikachu\", \"Fox\", \"Yoshi\", \"Kirby\"])"
   ]
  },
  {
   "cell_type": "code",
   "execution_count": 61,
   "metadata": {},
   "outputs": [
    {
     "data": {
      "text/plain": [
       "6"
      ]
     },
     "execution_count": 61,
     "metadata": {},
     "output_type": "execute_result"
    }
   ],
   "source": [
    "len(SSBU)"
   ]
  },
  {
   "cell_type": "markdown",
   "metadata": {},
   "source": [
    "Para una lista de los protocolos existentes en Python y como implementarlos, se puede visitar la documentación del lenguaje en el siguiente link:\n",
    "\n",
    "https://docs.python.org/3/reference/datamodel.html\n",
    "\n",
    "Dado que son informales, no se pueden hacer cumplir formalmente. En su mayoría se ilustran en la documentación o se definen por convención. Todos los métodos mágicos geniales de los que ha oído hablar, __len__, __contains__, __iter__, todos ayudan a un objeto a ajustarse a algún tipo de protocolos."
   ]
  },
  {
   "cell_type": "code",
   "execution_count": 62,
   "metadata": {},
   "outputs": [],
   "source": [
    "class Equipo:\n",
    "    def __init__(self, miembros):\n",
    "        self.__miembros = miembros\n",
    "\n",
    "    def __len__(self):\n",
    "        return len(self.__miembros)\n",
    "\n",
    "    def __contains__(self, miembros):\n",
    "        return miembros in self.__miembros\n",
    "\n",
    "liga_de_la_justicia = Equipo([\"Batman\", \"Mujer Maravilla\", \"Flash\"])"
   ]
  },
  {
   "cell_type": "code",
   "execution_count": 63,
   "metadata": {},
   "outputs": [
    {
     "name": "stdout",
     "output_type": "stream",
     "text": [
      "3\n"
     ]
    }
   ],
   "source": [
    "print(len(liga_de_la_justicia))"
   ]
  },
  {
   "cell_type": "markdown",
   "metadata": {},
   "source": [
    "En nuestro ejemplo anterior, al implementar el método __len__ y __contains__, ahora podemos usar directamente la función **len** en una instancia de Equipo y verificar la membresía usando el operador in. Si agregamos el método __iter__ para implementar el protocolo iterable, incluso podríamos hacer algo como:"
   ]
  },
  {
   "cell_type": "code",
   "execution_count": 64,
   "metadata": {},
   "outputs": [
    {
     "name": "stdout",
     "output_type": "stream",
     "text": [
      "False\n",
      "False\n",
      "True\n"
     ]
    }
   ],
   "source": [
    "# Container protocol\n",
    "print(\"batman\" in liga_de_la_justicia)\n",
    "print(\"superman\" in liga_de_la_justicia)\n",
    "print(\"cyborg\" not in liga_de_la_justicia)"
   ]
  },
  {
   "cell_type": "markdown",
   "metadata": {},
   "source": [
    "Sin implementar el método __iter__, si intentamos iterar sobre el equipo, obtendremos un error:"
   ]
  },
  {
   "cell_type": "code",
   "execution_count": null,
   "metadata": {},
   "outputs": [],
   "source": [
    "#for miembros in liga_de_la_justicia:\n",
    "    #print(miembros)"
   ]
  },
  {
   "cell_type": "markdown",
   "metadata": {
    "colab_type": "text",
    "id": "d9BX7YlTKJLd"
   },
   "source": [
    "<a id=\"section94\"></a> \n",
    "# <font color=\"#004D7F\"> 3.13 Reutilización de clases</font>"
   ]
  },
  {
   "cell_type": "markdown",
   "metadata": {},
   "source": [
    "Tambien conocida como composición, es la generación de nuevas clases u objetos por medio de la instanciación. La composición implica que un objeto conoce a otro objeto, con lo cual le puede delegar ciertas actividaes."
   ]
  },
  {
   "cell_type": "code",
   "execution_count": 67,
   "metadata": {},
   "outputs": [],
   "source": [
    "# Creamos varias clases:\n",
    "\n",
    "class Llanta:\n",
    "    def __init__(self,ancho, diametro, numero):\n",
    "        self.ancho=ancho\n",
    "        self.diametro=diametro\n",
    "        self.numero=numero\n",
    "    \n",
    "class Motor:\n",
    "    def __init__(self,rpm, potencia, rendimiento):\n",
    "        self.rpm=rpm\n",
    "        self.potencia=potencia\n",
    "        self.rendimiento=rendimiento\n",
    "    \n",
    "class Estructura:\n",
    "    def __init__(self,tipo):\n",
    "        self.tipo=tipo"
   ]
  },
  {
   "cell_type": "code",
   "execution_count": 68,
   "metadata": {},
   "outputs": [],
   "source": [
    "class Carro:\n",
    "    llantas=Llanta(4,16,4)\n",
    "    motor=Motor(6000, 306, 0.7)\n",
    "    chasis=Estructura(\"Chasis\")"
   ]
  },
  {
   "cell_type": "code",
   "execution_count": 69,
   "metadata": {},
   "outputs": [],
   "source": [
    "bmw=Carro()"
   ]
  },
  {
   "cell_type": "code",
   "execution_count": 70,
   "metadata": {},
   "outputs": [
    {
     "data": {
      "text/plain": [
       "4"
      ]
     },
     "execution_count": 70,
     "metadata": {},
     "output_type": "execute_result"
    }
   ],
   "source": [
    "bmw.llantas.ancho"
   ]
  }
 ],
 "metadata": {
  "colab": {
   "name": "Unidad 2.ipynb",
   "provenance": []
  },
  "kernelspec": {
   "display_name": "Python 3",
   "language": "python",
   "name": "python3"
  },
  "language_info": {
   "codemirror_mode": {
    "name": "ipython",
    "version": 3
   },
   "file_extension": ".py",
   "mimetype": "text/x-python",
   "name": "python",
   "nbconvert_exporter": "python",
   "pygments_lexer": "ipython3",
   "version": "3.8.8"
  }
 },
 "nbformat": 4,
 "nbformat_minor": 1
}
